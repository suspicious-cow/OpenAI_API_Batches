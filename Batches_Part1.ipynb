{
 "cells": [
  {
   "cell_type": "markdown",
   "metadata": {},
   "source": [
    "## Working with Batches\n",
    "\n",
    "The Batch API endpoint allows users to submit requests for asynchronous batch processing. We will process these requests within 24 hours. The details of each request will be read from a pre-uploaded file, and the responses will be written to an output file. You can query the batch object for status updates and results. Each model will be offered at 50% cost discount vs. the synchronous APIs. \n",
    "\n"
   ]
  },
  {
   "cell_type": "markdown",
   "metadata": {},
   "source": [
    "# Univeral Code Used for the Entire Notebook\n",
    "\n",
    "Let's set up our libraries and client"
   ]
  },
  {
   "cell_type": "code",
   "execution_count": 24,
   "metadata": {},
   "outputs": [],
   "source": [
    "# import libraries\n",
    "from openai import OpenAI"
   ]
  },
  {
   "cell_type": "code",
   "execution_count": 25,
   "metadata": {},
   "outputs": [],
   "source": [
    "# Create a client we can use\n",
    "client = OpenAI()"
   ]
  },
  {
   "cell_type": "markdown",
   "metadata": {},
   "source": [
    "## Preparing the Batch File\n",
    "\n",
    "Batches start with a .jsonl file where each line contains the details of an individual request to the API. For now, the available endpoints are /v1/chat/completions (Chat Completions API) and /v1/embeddings (Embeddings API). For a given input file, the parameters in each line's body field are the same as the parameters for the underlying endpoint. Each request must include a unique custom_id value, which you can use to reference results after completion. Here's an example of an input file with 2 requests. Note that each input file can only include requests to a single model.\n",
    "\n",
    "NOTE: For some insane reason you are required to indicate the API endpoint here and in the batch creation later on. Presumably, OpenAI will one day allow hitting multiple different APIs in one batch request; but today is not that day. \n",
    "\n",
    "<br/>\n",
    "Examples:\n",
    "\n",
    "```\n",
    "{\"custom_id\": \"request-1\", \"method\": \"POST\", \"url\": \"/v1/chat/completions\", \"body\": {\"model\": \"gpt-4o\", \"messages\": [{\"role\": \"system\", \"content\": \"You are a helpful assistant.\"},{\"role\": \"user\", \"content\": \"Give me three paragraphs on the penguin lifecycle.\"}],\"max_tokens\": 1000}}\n",
    "\n",
    "{\"custom_id\": \"request-2\", \"method\": \"POST\", \"url\": \"/v1/chat/completions\", \"body\": {\"model\": \"gpt-4o\", \"messages\": [{\"role\": \"system\", \"content\": \"You are a helpful assistant.\"},{\"role\": \"user\", \"content\": \"Give me three paragraphs on penguin mating habits.\"}],\"max_tokens\": 1000}}\n",
    "\n",
    "{\"custom_id\": \"request-3\", \"method\": \"POST\", \"url\": \"/v1/chat/completions\", \"body\": {\"model\": \"gpt-4o\", \"messages\": [{\"role\": \"system\", \"content\": \"You are a helpful assistant.\"},{\"role\": \"user\", \"content\": \"Give me three paragraphs on penguin species differences.\"}],\"max_tokens\": 1000}}\n",
    "```"
   ]
  },
  {
   "cell_type": "markdown",
   "metadata": {},
   "source": [
    "### Uploading the File\n",
    "\n",
    "After creating your batch file, you must upload it so that you can reference it correctly when kicking off batches. Upload your .jsonl file using the Files API."
   ]
  },
  {
   "cell_type": "code",
   "execution_count": 26,
   "metadata": {},
   "outputs": [],
   "source": [
    "\n",
    "bad_batch_input_file = client.files.create(\n",
    "    file=open(\"./artifacts/badbatchinput.jsonl\", \"rb\"),\n",
    "    purpose=\"batch\"\n",
    ")\n",
    "\n",
    "good_batch_input_file = client.files.create(\n",
    "    file=open(\"./artifacts/goodbatchinput.jsonl\", \"rb\"),\n",
    "    purpose=\"batch\"\n",
    ")"
   ]
  },
  {
   "cell_type": "markdown",
   "metadata": {},
   "source": [
    "## Creating the Batch\n",
    "\n",
    "Once you've successfully uploaded your input file, you can use the input File object's ID to create a batch. For now, the completion window can only be set to 24h. You can also provide custom metadata via an optional metadata parameter."
   ]
  },
  {
   "cell_type": "code",
   "execution_count": 31,
   "metadata": {},
   "outputs": [
    {
     "name": "stdout",
     "output_type": "stream",
     "text": [
      "Batch(id='batch_aeo2ZMmdavhEdeebQ5dNdCaz', completion_window='24h', created_at=1720318527, endpoint='/v1/chat/completions', input_file_id='file-AZy8R5vyhc4zsoG4Y6pVXSk1', object='batch', status='validating', cancelled_at=None, cancelling_at=None, completed_at=None, error_file_id=None, errors=None, expired_at=None, expires_at=1720404927, failed_at=None, finalizing_at=None, in_progress_at=None, metadata={'description': 'bad nightly penguin job'}, output_file_id=None, request_counts=BatchRequestCounts(completed=0, failed=0, total=0))\n",
      "\n",
      "\n",
      "\n",
      "Batch(id='batch_FtQXjIiZ1TQWtAEgPoYnXqwN', completion_window='24h', created_at=1720318527, endpoint='/v1/chat/completions', input_file_id='file-JwfDUxjAcYGRB7bYl2N8uCz8', object='batch', status='validating', cancelled_at=None, cancelling_at=None, completed_at=None, error_file_id=None, errors=None, expired_at=None, expires_at=1720404927, failed_at=None, finalizing_at=None, in_progress_at=None, metadata={'description': 'good nightly penguin job'}, output_file_id=None, request_counts=BatchRequestCounts(completed=0, failed=0, total=0))\n"
     ]
    }
   ],
   "source": [
    "bad_batch_input_file_id = bad_batch_input_file.id\n",
    "\n",
    "bad_batch = client.batches.create(\n",
    "    input_file_id=bad_batch_input_file_id,\n",
    "    endpoint=\"/v1/chat/completions\",\n",
    "    completion_window=\"24h\",\n",
    "    metadata={\n",
    "        \"description\": \"bad nightly penguin job\"\n",
    "    }\n",
    ")\n",
    "\n",
    "print(bad_batch)\n",
    "print(\"\\n\\n\")\n",
    "\n",
    "good_batch_input_file_id = good_batch_input_file.id\n",
    "\n",
    "good_batch = client.batches.create(\n",
    "    input_file_id=good_batch_input_file_id,\n",
    "    endpoint=\"/v1/chat/completions\",\n",
    "    completion_window=\"24h\",\n",
    "    metadata={\n",
    "        \"description\": \"good nightly penguin job\"\n",
    "    }\n",
    ")\n",
    "\n",
    "print(good_batch)"
   ]
  },
  {
   "cell_type": "markdown",
   "metadata": {},
   "source": [
    "## Checking Batch Status\n",
    "\n",
    "The status of a given Batch object can be any of the following:\n",
    "\n",
    "| STATUS      | DESCRIPTION                                                                  |\n",
    "|-------------|------------------------------------------------------------------------------|\n",
    "| validating  | the input file is being validated before the batch can begin                 |\n",
    "| failed      | the input file has failed the validation process                             |\n",
    "| in_progress | the input file was successfully validated and the batch is currently being run |\n",
    "| finalizing  | the batch has completed and the results are being prepared                   |\n",
    "| completed   | the batch has been completed and the results are ready                       |\n",
    "| expired     | the batch was not able to be completed within the 24-hour time window        |\n",
    "| cancelling  | the batch is being cancelled (may take up to 10 minutes)                     |\n",
    "| cancelled   | the batch was cancelled                                                      |\n"
   ]
  },
  {
   "cell_type": "code",
   "execution_count": 28,
   "metadata": {},
   "outputs": [
    {
     "name": "stdout",
     "output_type": "stream",
     "text": [
      "Batch(id='batch_uiGGOF2Ezj2ghrbyIVxkGOXZ', completion_window='24h', created_at=1720317806, endpoint='/v1/chat/completions', input_file_id='file-AZy8R5vyhc4zsoG4Y6pVXSk1', object='batch', status='failed', cancelled_at=None, cancelling_at=None, completed_at=None, error_file_id=None, errors=Errors(data=[BatchError(code='duplicate_custom_id', line=2, message='The custom_id for this request is a duplicate of another request. The custom_id parameter must be unique for each request in a batch.', param='custom_id'), BatchError(code='duplicate_custom_id', line=3, message='The custom_id for this request is a duplicate of another request. The custom_id parameter must be unique for each request in a batch.', param='custom_id')], object='list'), expired_at=None, expires_at=1720404206, failed_at=1720317807, finalizing_at=None, in_progress_at=None, metadata={'description': 'bad nightly penguin job'}, output_file_id=None, request_counts=BatchRequestCounts(completed=0, failed=0, total=0))\n",
      "\n",
      "\n",
      "\n",
      "Batch(id='batch_7gHdkZDI5stgn8amRIxDek6E', completion_window='24h', created_at=1720317806, endpoint='/v1/chat/completions', input_file_id='file-JwfDUxjAcYGRB7bYl2N8uCz8', object='batch', status='in_progress', cancelled_at=None, cancelling_at=None, completed_at=None, error_file_id=None, errors=None, expired_at=None, expires_at=1720404206, failed_at=None, finalizing_at=None, in_progress_at=1720317808, metadata={'description': 'good nightly penguin job'}, output_file_id=None, request_counts=BatchRequestCounts(completed=0, failed=0, total=3))\n"
     ]
    }
   ],
   "source": [
    "\n",
    "print(client.batches.retrieve(bad_batch.id))\n",
    "print(\"\\n\\n\")\n",
    "print(client.batches.retrieve(good_batch.id))"
   ]
  },
  {
   "cell_type": "markdown",
   "metadata": {},
   "source": [
    "## Listing the Batches\n",
    "\n",
    "At any time, you can see all your batches. For users with many batches, you can use the limit and after parameters to paginate your results."
   ]
  },
  {
   "cell_type": "code",
   "execution_count": 34,
   "metadata": {},
   "outputs": [
    {
     "name": "stdout",
     "output_type": "stream",
     "text": [
      "SyncCursorPage[Batch](data=[Batch(id='batch_FtQXjIiZ1TQWtAEgPoYnXqwN', completion_window='24h', created_at=1720318527, endpoint='/v1/chat/completions', input_file_id='file-JwfDUxjAcYGRB7bYl2N8uCz8', object='batch', status='completed', cancelled_at=None, cancelling_at=None, completed_at=1720318538, error_file_id=None, errors=None, expired_at=None, expires_at=1720404927, failed_at=None, finalizing_at=1720318537, in_progress_at=1720318529, metadata={'description': 'good nightly penguin job'}, output_file_id='file-1yLXSMwL5oqaKUdkczfgmbBe', request_counts=BatchRequestCounts(completed=3, failed=0, total=3)), Batch(id='batch_aeo2ZMmdavhEdeebQ5dNdCaz', completion_window='24h', created_at=1720318527, endpoint='/v1/chat/completions', input_file_id='file-AZy8R5vyhc4zsoG4Y6pVXSk1', object='batch', status='failed', cancelled_at=None, cancelling_at=None, completed_at=None, error_file_id=None, errors=Errors(data=[BatchError(code='duplicate_custom_id', line=2, message='The custom_id for this request is a duplicate of another request. The custom_id parameter must be unique for each request in a batch.', param='custom_id'), BatchError(code='duplicate_custom_id', line=3, message='The custom_id for this request is a duplicate of another request. The custom_id parameter must be unique for each request in a batch.', param='custom_id')], object='list'), expired_at=None, expires_at=1720404927, failed_at=1720318528, finalizing_at=None, in_progress_at=None, metadata={'description': 'bad nightly penguin job'}, output_file_id=None, request_counts=BatchRequestCounts(completed=0, failed=0, total=0)), Batch(id='batch_digFaDnZiTa0WoPmjcwjgXwt', completion_window='24h', created_at=1720318503, endpoint='/v1/chat/completions', input_file_id='file-JwfDUxjAcYGRB7bYl2N8uCz8', object='batch', status='completed', cancelled_at=None, cancelling_at=None, completed_at=1720318511, error_file_id=None, errors=None, expired_at=None, expires_at=1720404903, failed_at=None, finalizing_at=1720318511, in_progress_at=1720318504, metadata={'description': 'good nightly penguin job'}, output_file_id='file-omUJVgLaVNNUUyRJVy5jFVJp', request_counts=BatchRequestCounts(completed=3, failed=0, total=3)), Batch(id='batch_EIXIzJGPItJWrZM8eX089EQI', completion_window='24h', created_at=1720318502, endpoint='/v1/chat/completions', input_file_id='file-AZy8R5vyhc4zsoG4Y6pVXSk1', object='batch', status='failed', cancelled_at=None, cancelling_at=None, completed_at=None, error_file_id=None, errors=Errors(data=[BatchError(code='duplicate_custom_id', line=2, message='The custom_id for this request is a duplicate of another request. The custom_id parameter must be unique for each request in a batch.', param='custom_id'), BatchError(code='duplicate_custom_id', line=3, message='The custom_id for this request is a duplicate of another request. The custom_id parameter must be unique for each request in a batch.', param='custom_id')], object='list'), expired_at=None, expires_at=1720404902, failed_at=1720318503, finalizing_at=None, in_progress_at=None, metadata={'description': 'bad nightly penguin job'}, output_file_id=None, request_counts=BatchRequestCounts(completed=0, failed=0, total=0)), Batch(id='batch_SFkOFAfJejNfQCfpK611h7UI', completion_window='24h', created_at=1720318497, endpoint='/v1/chat/completions', input_file_id='file-JwfDUxjAcYGRB7bYl2N8uCz8', object='batch', status='completed', cancelled_at=None, cancelling_at=None, completed_at=1720318506, error_file_id=None, errors=None, expired_at=None, expires_at=1720404897, failed_at=None, finalizing_at=1720318505, in_progress_at=1720318498, metadata={'description': 'good nightly penguin job'}, output_file_id='file-B0RmfT5rMJQeXzFMjHj2lLdf', request_counts=BatchRequestCounts(completed=3, failed=0, total=3)), Batch(id='batch_Pe9jWAK6zGIVxNSyIUMsoe5n', completion_window='24h', created_at=1720318496, endpoint='/v1/chat/completions', input_file_id='file-AZy8R5vyhc4zsoG4Y6pVXSk1', object='batch', status='failed', cancelled_at=None, cancelling_at=None, completed_at=None, error_file_id=None, errors=Errors(data=[BatchError(code='duplicate_custom_id', line=2, message='The custom_id for this request is a duplicate of another request. The custom_id parameter must be unique for each request in a batch.', param='custom_id'), BatchError(code='duplicate_custom_id', line=3, message='The custom_id for this request is a duplicate of another request. The custom_id parameter must be unique for each request in a batch.', param='custom_id')], object='list'), expired_at=None, expires_at=1720404896, failed_at=1720318497, finalizing_at=None, in_progress_at=None, metadata={'description': 'bad nightly penguin job'}, output_file_id=None, request_counts=BatchRequestCounts(completed=0, failed=0, total=0)), Batch(id='batch_7gHdkZDI5stgn8amRIxDek6E', completion_window='24h', created_at=1720317806, endpoint='/v1/chat/completions', input_file_id='file-JwfDUxjAcYGRB7bYl2N8uCz8', object='batch', status='completed', cancelled_at=None, cancelling_at=None, completed_at=1720317818, error_file_id=None, errors=None, expired_at=None, expires_at=1720404206, failed_at=None, finalizing_at=1720317817, in_progress_at=1720317808, metadata={'description': 'good nightly penguin job'}, output_file_id='file-BSsyAwMOWStPf4HKwmF2LDnV', request_counts=BatchRequestCounts(completed=3, failed=0, total=3)), Batch(id='batch_uiGGOF2Ezj2ghrbyIVxkGOXZ', completion_window='24h', created_at=1720317806, endpoint='/v1/chat/completions', input_file_id='file-AZy8R5vyhc4zsoG4Y6pVXSk1', object='batch', status='failed', cancelled_at=None, cancelling_at=None, completed_at=None, error_file_id=None, errors=Errors(data=[BatchError(code='duplicate_custom_id', line=2, message='The custom_id for this request is a duplicate of another request. The custom_id parameter must be unique for each request in a batch.', param='custom_id'), BatchError(code='duplicate_custom_id', line=3, message='The custom_id for this request is a duplicate of another request. The custom_id parameter must be unique for each request in a batch.', param='custom_id')], object='list'), expired_at=None, expires_at=1720404206, failed_at=1720317807, finalizing_at=None, in_progress_at=None, metadata={'description': 'bad nightly penguin job'}, output_file_id=None, request_counts=BatchRequestCounts(completed=0, failed=0, total=0)), Batch(id='batch_yVmw1bKlyyTYE9GmkxRjJLBx', completion_window='24h', created_at=1720317391, endpoint='/v1/chat/completions', input_file_id='file-zglfpQldlxjkBJM676xBPxLd', object='batch', status='completed', cancelled_at=None, cancelling_at=None, completed_at=1720317399, error_file_id=None, errors=None, expired_at=None, expires_at=1720403791, failed_at=None, finalizing_at=1720317398, in_progress_at=1720317392, metadata={'description': 'nightly penguin job'}, output_file_id='file-NFAbE45nW5ecaKbNbpehJnEW', request_counts=BatchRequestCounts(completed=3, failed=0, total=3)), Batch(id='batch_iiTGl4vSFF6xL1AkGhVjOvrl', completion_window='24h', created_at=1720317390, endpoint='/v1/chat/completions', input_file_id='file-uyztRv76BVYEZsiS67F6kaFQ', object='batch', status='failed', cancelled_at=None, cancelling_at=None, completed_at=None, error_file_id=None, errors=Errors(data=[BatchError(code='duplicate_custom_id', line=2, message='The custom_id for this request is a duplicate of another request. The custom_id parameter must be unique for each request in a batch.', param='custom_id'), BatchError(code='duplicate_custom_id', line=3, message='The custom_id for this request is a duplicate of another request. The custom_id parameter must be unique for each request in a batch.', param='custom_id')], object='list'), expired_at=None, expires_at=1720403790, failed_at=1720317391, finalizing_at=None, in_progress_at=None, metadata={'description': 'nightly penguin job'}, output_file_id=None, request_counts=BatchRequestCounts(completed=0, failed=0, total=0)), Batch(id='batch_2JxALjwCcAIoMYKBZWkkfoLs', completion_window='24h', created_at=1720317233, endpoint='/v1/chat/completions', input_file_id='file-EvdbZxQH7GsjwVUVXhvsRyQY', object='batch', status='failed', cancelled_at=None, cancelling_at=None, completed_at=None, error_file_id=None, errors=Errors(data=[BatchError(code='mismatched_model', line=2, message='The model for this request does not match the rest of the batch. Each batch must contain requests for a single model.', param='body.model'), BatchError(code='mismatched_model', line=3, message='The model for this request does not match the rest of the batch. Each batch must contain requests for a single model.', param='body.model')], object='list'), expired_at=None, expires_at=1720403633, failed_at=1720317234, finalizing_at=None, in_progress_at=None, metadata={'description': 'nightly penguin job'}, output_file_id=None, request_counts=BatchRequestCounts(completed=0, failed=0, total=0)), Batch(id='batch_WS7lPOyIBe0ukFMkpmx8hbP4', completion_window='24h', created_at=1720317233, endpoint='/v1/chat/completions', input_file_id='file-j2KViq4WsFOsdjvYYj3aoKog', object='batch', status='failed', cancelled_at=None, cancelling_at=None, completed_at=None, error_file_id=None, errors=Errors(data=[BatchError(code='duplicate_custom_id', line=2, message='The custom_id for this request is a duplicate of another request. The custom_id parameter must be unique for each request in a batch.', param='custom_id'), BatchError(code='duplicate_custom_id', line=3, message='The custom_id for this request is a duplicate of another request. The custom_id parameter must be unique for each request in a batch.', param='custom_id')], object='list'), expired_at=None, expires_at=1720403633, failed_at=1720317233, finalizing_at=None, in_progress_at=None, metadata={'description': 'nightly penguin job'}, output_file_id=None, request_counts=BatchRequestCounts(completed=0, failed=0, total=0)), Batch(id='batch_YaSbx4ToxpIZXIQg7FKTapyC', completion_window='24h', created_at=1720317040, endpoint='/v1/chat/completions', input_file_id='file-i6OYKhNFUxPAe5aHLoZQzys0', object='batch', status='failed', cancelled_at=None, cancelling_at=None, completed_at=None, error_file_id=None, errors=Errors(data=[BatchError(code='duplicate_custom_id', line=2, message='The custom_id for this request is a duplicate of another request. The custom_id parameter must be unique for each request in a batch.', param='custom_id'), BatchError(code='duplicate_custom_id', line=3, message='The custom_id for this request is a duplicate of another request. The custom_id parameter must be unique for each request in a batch.', param='custom_id')], object='list'), expired_at=None, expires_at=1720403440, failed_at=1720317040, finalizing_at=None, in_progress_at=None, metadata={'description': 'nightly penguin job'}, output_file_id=None, request_counts=BatchRequestCounts(completed=0, failed=0, total=0)), Batch(id='batch_A05MUZX2CRhuJqBywXS10gkP', completion_window='24h', created_at=1720312115, endpoint='/v1/chat/completions', input_file_id='file-ZJzXXmxiIPMb6kjshbIYjTe2', object='batch', status='failed', cancelled_at=None, cancelling_at=None, completed_at=None, error_file_id=None, errors=Errors(data=[BatchError(code='duplicate_custom_id', line=2, message='The custom_id for this request is a duplicate of another request. The custom_id parameter must be unique for each request in a batch.', param='custom_id'), BatchError(code='duplicate_custom_id', line=3, message='The custom_id for this request is a duplicate of another request. The custom_id parameter must be unique for each request in a batch.', param='custom_id')], object='list'), expired_at=None, expires_at=1720398515, failed_at=1720312118, finalizing_at=None, in_progress_at=None, metadata={'description': 'nightly penguin job'}, output_file_id=None, request_counts=BatchRequestCounts(completed=0, failed=0, total=0)), Batch(id='batch_hcz7fuAGsbqu31o0p6BtjfZU', completion_window='24h', created_at=1720311771, endpoint='/v1/chat/completions', input_file_id='file-ZJzXXmxiIPMb6kjshbIYjTe2', object='batch', status='failed', cancelled_at=None, cancelling_at=None, completed_at=None, error_file_id=None, errors=Errors(data=[BatchError(code='duplicate_custom_id', line=2, message='The custom_id for this request is a duplicate of another request. The custom_id parameter must be unique for each request in a batch.', param='custom_id'), BatchError(code='duplicate_custom_id', line=3, message='The custom_id for this request is a duplicate of another request. The custom_id parameter must be unique for each request in a batch.', param='custom_id')], object='list'), expired_at=None, expires_at=1720398171, failed_at=1720311772, finalizing_at=None, in_progress_at=None, metadata={'description': 'nightly penguin job'}, output_file_id=None, request_counts=BatchRequestCounts(completed=0, failed=0, total=0))], object='list', first_id='batch_FtQXjIiZ1TQWtAEgPoYnXqwN', last_id='batch_hcz7fuAGsbqu31o0p6BtjfZU', has_more=False)\n",
      "batch_FtQXjIiZ1TQWtAEgPoYnXqwN\n",
      "completed\n",
      "good nightly penguin job\n",
      "\n",
      "\n",
      "\n",
      "batch_aeo2ZMmdavhEdeebQ5dNdCaz\n",
      "failed\n",
      "bad nightly penguin job\n",
      "\n",
      "\n",
      "\n",
      "batch_digFaDnZiTa0WoPmjcwjgXwt\n",
      "completed\n",
      "good nightly penguin job\n",
      "\n",
      "\n",
      "\n",
      "batch_EIXIzJGPItJWrZM8eX089EQI\n",
      "failed\n",
      "bad nightly penguin job\n",
      "\n",
      "\n",
      "\n",
      "batch_SFkOFAfJejNfQCfpK611h7UI\n",
      "completed\n",
      "good nightly penguin job\n",
      "\n",
      "\n",
      "\n",
      "batch_Pe9jWAK6zGIVxNSyIUMsoe5n\n",
      "failed\n",
      "bad nightly penguin job\n",
      "\n",
      "\n",
      "\n",
      "batch_7gHdkZDI5stgn8amRIxDek6E\n",
      "completed\n",
      "good nightly penguin job\n",
      "\n",
      "\n",
      "\n",
      "batch_uiGGOF2Ezj2ghrbyIVxkGOXZ\n",
      "failed\n",
      "bad nightly penguin job\n",
      "\n",
      "\n",
      "\n",
      "batch_yVmw1bKlyyTYE9GmkxRjJLBx\n",
      "completed\n",
      "nightly penguin job\n",
      "\n",
      "\n",
      "\n",
      "batch_iiTGl4vSFF6xL1AkGhVjOvrl\n",
      "failed\n",
      "nightly penguin job\n",
      "\n",
      "\n",
      "\n",
      "batch_2JxALjwCcAIoMYKBZWkkfoLs\n",
      "failed\n",
      "nightly penguin job\n",
      "\n",
      "\n",
      "\n",
      "batch_WS7lPOyIBe0ukFMkpmx8hbP4\n",
      "failed\n",
      "nightly penguin job\n",
      "\n",
      "\n",
      "\n",
      "batch_YaSbx4ToxpIZXIQg7FKTapyC\n",
      "failed\n",
      "nightly penguin job\n",
      "\n",
      "\n",
      "\n",
      "batch_A05MUZX2CRhuJqBywXS10gkP\n",
      "failed\n",
      "nightly penguin job\n",
      "\n",
      "\n",
      "\n",
      "batch_hcz7fuAGsbqu31o0p6BtjfZU\n",
      "failed\n",
      "nightly penguin job\n",
      "\n",
      "\n",
      "\n"
     ]
    }
   ],
   "source": [
    "print(client.batches.list())\n",
    "\n",
    "for batch in client.batches.list():\n",
    "    print(batch.id)\n",
    "    print(batch.status)\n",
    "    print(batch.metadata.get(\"description\"))\n",
    "    print(\"\\n\\n\")"
   ]
  }
 ],
 "metadata": {
  "kernelspec": {
   "display_name": "NormalProgramming",
   "language": "python",
   "name": "python3"
  },
  "language_info": {
   "codemirror_mode": {
    "name": "ipython",
    "version": 3
   },
   "file_extension": ".py",
   "mimetype": "text/x-python",
   "name": "python",
   "nbconvert_exporter": "python",
   "pygments_lexer": "ipython3",
   "version": "3.11.4"
  }
 },
 "nbformat": 4,
 "nbformat_minor": 2
}
